{
  "nbformat": 4,
  "nbformat_minor": 0,
  "metadata": {
    "colab": {
      "provenance": []
    },
    "kernelspec": {
      "name": "python3",
      "display_name": "Python 3"
    },
    "language_info": {
      "name": "python"
    }
  },
  "cells": [
    {
      "cell_type": "code",
      "execution_count": 1,
      "metadata": {
        "colab": {
          "base_uri": "https://localhost:8080/"
        },
        "id": "gdDfoXVOIpuj",
        "outputId": "38b7d231-12b1-4e49-e70e-35f6893648de"
      },
      "outputs": [
        {
          "output_type": "stream",
          "name": "stdout",
          "text": [
            "Collecting gym-walk\n",
            "  Cloning https://github.com/mimoralea/gym-walk to /tmp/pip-install-kep7q8pu/gym-walk_bf6fd79fd416443aa52052e3ff55faff\n",
            "  Running command git clone --filter=blob:none --quiet https://github.com/mimoralea/gym-walk /tmp/pip-install-kep7q8pu/gym-walk_bf6fd79fd416443aa52052e3ff55faff\n",
            "  Resolved https://github.com/mimoralea/gym-walk to commit 5999016267d6de2f5a63307fb00dfd63de319ac1\n",
            "  Preparing metadata (setup.py) ... \u001b[?25l\u001b[?25hdone\n",
            "Requirement already satisfied: gym in /usr/local/lib/python3.10/dist-packages (from gym-walk) (0.25.2)\n",
            "Requirement already satisfied: numpy>=1.18.0 in /usr/local/lib/python3.10/dist-packages (from gym->gym-walk) (1.25.2)\n",
            "Requirement already satisfied: cloudpickle>=1.2.0 in /usr/local/lib/python3.10/dist-packages (from gym->gym-walk) (2.2.1)\n",
            "Requirement already satisfied: gym-notices>=0.0.4 in /usr/local/lib/python3.10/dist-packages (from gym->gym-walk) (0.0.8)\n",
            "Building wheels for collected packages: gym-walk\n",
            "  Building wheel for gym-walk (setup.py) ... \u001b[?25l\u001b[?25hdone\n",
            "  Created wheel for gym-walk: filename=gym_walk-0.0.2-py3-none-any.whl size=4053 sha256=a69db2006336eeb9b0c2093f3c4a9ad6f78c800b36256b03ede0200a5f7d04d1\n",
            "  Stored in directory: /tmp/pip-ephem-wheel-cache-2wayz5j0/wheels/24/fe/c4/0cbc7511d29265bad7e28a09311db3f87f0cafba74af54d530\n",
            "Successfully built gym-walk\n",
            "Installing collected packages: gym-walk\n",
            "Successfully installed gym-walk-0.0.2\n"
          ]
        }
      ],
      "source": [
        "pip install git+https://github.com/mimoralea/gym-walk#egg=gym-walk"
      ]
    },
    {
      "cell_type": "code",
      "source": [
        "import warnings ; warnings.filterwarnings('ignore')\n",
        "import gym, gym_walk\n",
        "import numpy as np\n",
        "\n",
        "import random\n",
        "import warnings\n",
        "\n",
        "warnings.filterwarnings('ignore', category=DeprecationWarning)\n",
        "np.set_printoptions(suppress=True)\n",
        "random.seed(123); np.random.seed(123)\n",
        "from builtins import object"
      ],
      "metadata": {
        "id": "6ee7AprvItmK"
      },
      "execution_count": 2,
      "outputs": []
    },
    {
      "cell_type": "code",
      "source": [
        "def print_policy(pi, P, action_symbols=('<', 'v', '>', '^'), n_cols=4, title='Policy:'):\n",
        "    print(title)\n",
        "    arrs = {k:v for k,v in enumerate(action_symbols)}\n",
        "    for s in range(len(P)):\n",
        "        a = pi[s]\n",
        "        print(\"| \", end=\"\")\n",
        "        if np.all([done for action in P[s].values() for _, _, _, done in action]):\n",
        "            print(\"\".rjust(9), end=\" \")\n",
        "        else:\n",
        "            print(str(s).zfill(2), arrs[a].rjust(6), end=\" \")\n",
        "        if (s + 1) % n_cols == 0: print(\"|\")"
      ],
      "metadata": {
        "id": "2DFHGmQgItik"
      },
      "execution_count": 3,
      "outputs": []
    },
    {
      "cell_type": "code",
      "source": [
        "def print_state_value_function(V, P, n_cols=4, prec=3, title='State-value function:'):\n",
        "    print(title)\n",
        "    for s in range(len(P)):\n",
        "        v = V[s]\n",
        "        print(\"| \", end=\"\")\n",
        "        if np.all([done for action in P[s].values() for _, _, _, done in action]):\n",
        "            print(\"\".rjust(9), end=\" \")\n",
        "        else:\n",
        "            print(str(s).zfill(2), '{}'.format(np.round(v, prec)).rjust(6), end=\" \")\n",
        "        if (s + 1) % n_cols == 0: print(\"|\")"
      ],
      "metadata": {
        "id": "DJO44_JSIte7"
      },
      "execution_count": 4,
      "outputs": []
    },
    {
      "cell_type": "code",
      "source": [
        "def probability_success(env, pi, goal_state, n_episodes=100, max_steps=1000):\n",
        "    results = []\n",
        "    for _ in range(n_episodes):\n",
        "        state, done, steps = env.reset(), False, 0\n",
        "        while not done and steps < max_steps:\n",
        "            state, _, done, _ = env.step(pi[state])\n",
        "            steps += 1\n",
        "        results.append(state == goal_state)\n",
        "    return np.mean(results)"
      ],
      "metadata": {
        "id": "Exkjt6avItby"
      },
      "execution_count": 5,
      "outputs": []
    },
    {
      "cell_type": "code",
      "source": [
        "def mean_return(env, pi, n_episodes=100, max_steps=1000):\n",
        "    returns = []\n",
        "    for _ in range(n_episodes):\n",
        "        state, done, steps, return_ = env.reset(), False, 0, 0\n",
        "        while not done and steps < max_steps:\n",
        "            state, reward, done, _ = env.step(pi[state])\n",
        "            return_ += reward\n",
        "            steps += 1\n",
        "        returns.append(return_)\n",
        "    return np.mean(returns)"
      ],
      "metadata": {
        "id": "7VHggZqvItZB"
      },
      "execution_count": 6,
      "outputs": []
    },
    {
      "cell_type": "code",
      "source": [
        "env = gym.make('SlipperyWalkFive-v0')\n",
        "P = env.env.P\n",
        "init_state = env.reset()\n",
        "goal_state = 6\n",
        "LEFT, RIGHT = range(2)"
      ],
      "metadata": {
        "id": "Qz0xtU7AItWG"
      },
      "execution_count": 7,
      "outputs": []
    },
    {
      "cell_type": "code",
      "source": [
        "optimal_pi = {}"
      ],
      "metadata": {
        "id": "cde89pxrItS5"
      },
      "execution_count": 8,
      "outputs": []
    },
    {
      "cell_type": "code",
      "source": [
        "P"
      ],
      "metadata": {
        "colab": {
          "base_uri": "https://localhost:8080/"
        },
        "id": "WA4vQ5IWItNH",
        "outputId": "45517073-5ed8-42b9-c1fc-72f0516e491e"
      },
      "execution_count": 9,
      "outputs": [
        {
          "output_type": "execute_result",
          "data": {
            "text/plain": [
              "{0: {0: [(0.5000000000000001, 0, 0.0, True),\n",
              "   (0.3333333333333333, 0, 0.0, True),\n",
              "   (0.16666666666666666, 0, 0.0, True)],\n",
              "  1: [(0.5000000000000001, 0, 0.0, True),\n",
              "   (0.3333333333333333, 0, 0.0, True),\n",
              "   (0.16666666666666666, 0, 0.0, True)]},\n",
              " 1: {0: [(0.5000000000000001, 0, 0.0, True),\n",
              "   (0.3333333333333333, 1, 0.0, False),\n",
              "   (0.16666666666666666, 2, 0.0, False)],\n",
              "  1: [(0.5000000000000001, 2, 0.0, False),\n",
              "   (0.3333333333333333, 1, 0.0, False),\n",
              "   (0.16666666666666666, 0, 0.0, True)]},\n",
              " 2: {0: [(0.5000000000000001, 1, 0.0, False),\n",
              "   (0.3333333333333333, 2, 0.0, False),\n",
              "   (0.16666666666666666, 3, 0.0, False)],\n",
              "  1: [(0.5000000000000001, 3, 0.0, False),\n",
              "   (0.3333333333333333, 2, 0.0, False),\n",
              "   (0.16666666666666666, 1, 0.0, False)]},\n",
              " 3: {0: [(0.5000000000000001, 2, 0.0, False),\n",
              "   (0.3333333333333333, 3, 0.0, False),\n",
              "   (0.16666666666666666, 4, 0.0, False)],\n",
              "  1: [(0.5000000000000001, 4, 0.0, False),\n",
              "   (0.3333333333333333, 3, 0.0, False),\n",
              "   (0.16666666666666666, 2, 0.0, False)]},\n",
              " 4: {0: [(0.5000000000000001, 3, 0.0, False),\n",
              "   (0.3333333333333333, 4, 0.0, False),\n",
              "   (0.16666666666666666, 5, 0.0, False)],\n",
              "  1: [(0.5000000000000001, 5, 0.0, False),\n",
              "   (0.3333333333333333, 4, 0.0, False),\n",
              "   (0.16666666666666666, 3, 0.0, False)]},\n",
              " 5: {0: [(0.5000000000000001, 4, 0.0, False),\n",
              "   (0.3333333333333333, 5, 0.0, False),\n",
              "   (0.16666666666666666, 6, 1.0, True)],\n",
              "  1: [(0.5000000000000001, 6, 1.0, True),\n",
              "   (0.3333333333333333, 5, 0.0, False),\n",
              "   (0.16666666666666666, 4, 0.0, False)]},\n",
              " 6: {0: [(0.5000000000000001, 6, 0.0, True),\n",
              "   (0.3333333333333333, 6, 0.0, True),\n",
              "   (0.16666666666666666, 6, 0.0, True)],\n",
              "  1: [(0.5000000000000001, 6, 0.0, True),\n",
              "   (0.3333333333333333, 6, 0.0, True),\n",
              "   (0.16666666666666666, 6, 0.0, True)]}}"
            ]
          },
          "metadata": {},
          "execution_count": 9
        }
      ]
    },
    {
      "cell_type": "code",
      "source": [
        "def decay_schedule(init_value, min_value, decay_ratio, max_steps, log_start=-2, log_base=10):\n",
        "  decay_steps = int(max_steps * decay_ratio)\n",
        "  rem_steps = max_steps - decay_steps\n",
        "  values = np.logspace(log_start, 0, decay_steps, base=log_base, endpoint=True)[::-1]\n",
        "  values = (values - values.min()) / (values.max() - values.min())\n",
        "  values = (init_value - min_value) * values + min_value\n",
        "  values = np.pad(values, (0, rem_steps), 'edge')\n",
        "  return values"
      ],
      "metadata": {
        "id": "1G3ElpalItKU"
      },
      "execution_count": 10,
      "outputs": []
    },
    {
      "cell_type": "code",
      "source": [
        "from itertools import count\n",
        "def generate_trajectory(select_action, Q, epsilon, env, max_steps=200):\n",
        "  done, trajectory = False, []\n",
        "  while not done:\n",
        "    state = env.reset()\n",
        "    for t in count():\n",
        "      action = select_action(state, Q, epsilon)\n",
        "      next_state, reward, done, _ = env.step(action)\n",
        "      experience = (state, action, reward, next_state, done)\n",
        "      trajectory.append(experience)\n",
        "      if done:\n",
        "        break\n",
        "      if t >= max_steps - 1:\n",
        "        trajectory = []\n",
        "        break\n",
        "      state = next_state\n",
        "  return np.array(trajectory, object)"
      ],
      "metadata": {
        "id": "zxY6FhB7ItG_"
      },
      "execution_count": 11,
      "outputs": []
    },
    {
      "cell_type": "code",
      "source": [
        "from numpy.lib.function_base import select\n",
        "from collections import defaultdict\n",
        "def mc_control(env, gamma=1.0, init_alpha=0.5, min_alpha=0.01, alpha_decay_ratio=0.5,\n",
        "               init_epsilon=1.0, min_epsilon=0.1, epsilon_decay_ratio=0.9,\n",
        "               n_episodes=3000, max_steps=200, first_visit=True):\n",
        "\n",
        "    nS, nA = env.observation_space.n, env.action_space.n\n",
        "    Q = defaultdict(lambda: np.zeros(nA))\n",
        "    V = defaultdict(float)\n",
        "    pi = defaultdict(lambda: np.random.choice(nA))\n",
        "    Q_track = []\n",
        "    pi_track = []\n",
        "    select_action = lambda state , Q, epsilon:\\\n",
        "    np.argmax(Q[state])\\\n",
        "    if np.random.random() > epsilon\\\n",
        "    else np.random.randint(len(Q[state]))\n",
        "    for episode in range(n_episodes):\n",
        "        epsilon = max(init_epsilon * (epsilon_decay_ratio ** episode), min_epsilon)\n",
        "        alpha = max(init_alpha * (alpha_decay_ratio ** episode), min_alpha)\n",
        "        trajectory = generate_trajectory(select_action, Q, epsilon, env, max_steps)\n",
        "        n = len(trajectory)\n",
        "        G = 0\n",
        "        for t in range(n - 1, -1, -1):\n",
        "            state, action, reward, _, _ = trajectory[t]\n",
        "            G = gamma * G + reward\n",
        "            if first_visit and (state, action) not in [(s, a) for s, a, _, _, _ in trajectory[:t]]:\n",
        "                Q[state][action] += alpha * (G - Q[state][action])\n",
        "                V[state] = np.max(Q[state])\n",
        "                pi[state] = np.argmax(Q[state])\n",
        "        Q_track.append(Q.copy())\n",
        "        pi_track.append(pi.copy)\n",
        "    return Q, V, pi"
      ],
      "metadata": {
        "id": "VYmfXL5vIs9_"
      },
      "execution_count": 12,
      "outputs": []
    },
    {
      "cell_type": "code",
      "source": [
        "optimal_Q, optimal_V, optimal_pi = mc_control(env)\n",
        "print_state_value_function(optimal_Q, P, n_cols=4, prec=2, title='Action-Value-Function')"
      ],
      "metadata": {
        "colab": {
          "base_uri": "https://localhost:8080/"
        },
        "id": "Y-GuxbNcJBxy",
        "outputId": "7918cf01-0c8c-41ff-85e9-97890387f3af"
      },
      "execution_count": 13,
      "outputs": [
        {
          "output_type": "stream",
          "name": "stdout",
          "text": [
            "Action-Value-Function\n",
            "|           | 01 [0.19 0.61] | 02 [0.7  0.85] | 03 [0.88 0.95] |\n",
            "| 04 [0.98 0.98] | 05 [0.98 1.  ] |           "
          ]
        }
      ]
    },
    {
      "cell_type": "code",
      "source": [
        "print_state_value_function(optimal_V, P, n_cols = 4, prec=2, title='State-Value-Function')"
      ],
      "metadata": {
        "colab": {
          "base_uri": "https://localhost:8080/"
        },
        "id": "DRYrZOCfJBnE",
        "outputId": "22eb31cf-e22b-4eae-8c65-9c406d342715"
      },
      "execution_count": 14,
      "outputs": [
        {
          "output_type": "stream",
          "name": "stdout",
          "text": [
            "State-Value-Function\n",
            "|           | 01   0.61 | 02   0.85 | 03   0.95 |\n",
            "| 04   0.98 | 05    1.0 |           "
          ]
        }
      ]
    },
    {
      "cell_type": "code",
      "source": [
        "print_policy(optimal_pi,P)"
      ],
      "metadata": {
        "colab": {
          "base_uri": "https://localhost:8080/"
        },
        "id": "SopwHYCLJE8X",
        "outputId": "07c6b50d-e975-459f-b2e3-4e9d776291ee"
      },
      "execution_count": 15,
      "outputs": [
        {
          "output_type": "stream",
          "name": "stdout",
          "text": [
            "Policy:\n",
            "|           | 01      v | 02      v | 03      v |\n",
            "| 04      v | 05      v |           "
          ]
        }
      ]
    },
    {
      "cell_type": "code",
      "source": [
        "print('Reaches goal {:.2f}%. Obtains an average undiscounted return of {:.4f}.'.format(\n",
        "    probability_success(env,optimal_pi, goal_state=goal_state)*100,\n",
        "    mean_return(env,optimal_pi)))"
      ],
      "metadata": {
        "colab": {
          "base_uri": "https://localhost:8080/"
        },
        "id": "Fhc-NuO4JHXA",
        "outputId": "3ae2c6d2-fcf5-441d-cd80-56fa477812d3"
      },
      "execution_count": 16,
      "outputs": [
        {
          "output_type": "stream",
          "name": "stdout",
          "text": [
            "Reaches goal 95.00%. Obtains an average undiscounted return of 1.0000.\n"
          ]
        }
      ]
    },
    {
      "cell_type": "code",
      "source": [],
      "metadata": {
        "id": "2Tj3ihN7JW29"
      },
      "execution_count": null,
      "outputs": []
    }
  ]
}